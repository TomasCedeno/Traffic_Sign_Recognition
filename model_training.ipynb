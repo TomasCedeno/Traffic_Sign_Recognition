{
  "cells": [
    {
      "cell_type": "markdown",
      "metadata": {
        "id": "YNV6ImHd-G2z"
      },
      "source": [
        "#Creación y Entrenamiento de Red Convolucional"
      ]
    },
    {
      "cell_type": "markdown",
      "metadata": {
        "id": "iAg2kXxi-pbA"
      },
      "source": [
        "---\n",
        "###Dependencias\n",
        "---"
      ]
    },
    {
      "cell_type": "code",
      "execution_count": null,
      "metadata": {
        "id": "L-gQeCCj9-QY"
      },
      "outputs": [],
      "source": [
        "# Librerías para las redes convolucionales\n",
        "\n",
        "import tensorflow as tf\n",
        "from tensorflow.keras.preprocessing.image import ImageDataGenerator\n",
        "from tensorflow.keras.models import Sequential, load_model\n",
        "from tensorflow.keras.layers import Dense, Dropout, Flatten\n",
        "from tensorflow.keras.layers import Conv2D, MaxPooling2D\n",
        "from tensorflow.keras.callbacks import EarlyStopping, ModelCheckpoint\n",
        "\n",
        "# Libreria para arreglos multidimensionales\n",
        "import numpy as np\n",
        "\n",
        "# Librería para preprocesamiento de imagenes al mismo formato usado luego con la camara\n",
        "import cv2\n",
        "\n",
        "# Librería para graficar \n",
        "import matplotlib.pyplot as plt\n",
        "\n",
        "# Librerías para métricas\n",
        "from sklearn.metrics import accuracy_score\n",
        "from sklearn.metrics import precision_score\n",
        "from sklearn.metrics import recall_score\n",
        "from sklearn.metrics import f1_score\n",
        "from sklearn.metrics import cohen_kappa_score\n",
        "from sklearn.metrics import ConfusionMatrixDisplay"
      ]
    },
    {
      "cell_type": "markdown",
      "metadata": {
        "id": "TsvM-zyk_IAD"
      },
      "source": [
        "---\n",
        "\n",
        "\n",
        "###Lectura y preprocesamiento de datos\n",
        "\n",
        "\n",
        "---"
      ]
    },
    {
      "cell_type": "code",
      "execution_count": null,
      "metadata": {
        "colab": {
          "base_uri": "https://localhost:8080/"
        },
        "id": "EppRg6vb_G69",
        "outputId": "bb9b0d7d-3e06-4e4d-9ea3-22b7b255278e"
      },
      "outputs": [
        {
          "name": "stdout",
          "output_type": "stream",
          "text": [
            "Mounted at /content/drive\n"
          ]
        }
      ],
      "source": [
        "from google.colab import drive\n",
        "drive.mount('/content/drive', force_remount=True)"
      ]
    },
    {
      "cell_type": "code",
      "execution_count": null,
      "metadata": {
        "id": "46A2fxdo_pGC"
      },
      "outputs": [],
      "source": [
        "# Rutas\n",
        "\n",
        "main_path = '/content/drive/MyDrive/3er Semestre/Introducción a la Ciencia de Datos/Reto Final'\n",
        "train_data_path = main_path + '/data/train'\n",
        "val_data_path = main_path + '/data/val'\n",
        "test_data_path = main_path + '/data/test'\n",
        "num_classes = 16"
      ]
    },
    {
      "cell_type": "code",
      "execution_count": null,
      "metadata": {
        "id": "iX-RxkmLaY_5"
      },
      "outputs": [],
      "source": [
        "#Libreria que permite separar el conjunto de imagenes para entrenar, validar y probar.\n",
        "!pip install split-folders"
      ]
    },
    {
      "cell_type": "code",
      "execution_count": null,
      "metadata": {
        "id": "yDSdET96U0mg"
      },
      "outputs": [],
      "source": [
        "import splitfolders\n",
        "\n",
        "input_folder = main_path + \"/data/all_images\"\n",
        "output = main_path + \"/data\"\n",
        "\n",
        "splitfolders.fixed(input_folder, output=output, seed=41, fixed=(1000, 250, 250)) # separa imagenes en carpetas train/val/test por clases"
      ]
    },
    {
      "cell_type": "code",
      "execution_count": null,
      "metadata": {
        "id": "JL7TBFMo_o-w"
      },
      "outputs": [],
      "source": [
        "#Preprocesamiento de imagenes\n",
        "\n",
        "def preprocessing(img):\n",
        "    img =cv2.equalizeHist(img) # estandarizar la iluminacion\n",
        "    return img\n",
        "\n",
        "# rescale: Normalizar a valores entre 0 y 1 en lugar de 0 y 255\n",
        "\n",
        "train_datagen = ImageDataGenerator(rescale=1./255, preprocessing_function=preprocessing)\n",
        "test_datagen = ImageDataGenerator(rescale=1./255, preprocessing_function=preprocessing)\n",
        "validation_datagen = ImageDataGenerator(rescale=1./255, preprocessing_function=preprocessing)"
      ]
    },
    {
      "cell_type": "code",
      "execution_count": null,
      "metadata": {
        "id": "g4G1VveUADmm"
      },
      "outputs": [],
      "source": [
        "#Cargar Imagenes\n",
        "\n",
        "train_generator = train_datagen.flow_from_directory(train_data_path,target_size=(32,32),color_mode='grayscale',batch_size=30,class_mode='categorical',shuffle=True)\n",
        "test_generator = test_datagen.flow_from_directory(val_data_path,target_size=(32,32),color_mode='grayscale',batch_size=1,class_mode='categorical',shuffle=False)\n",
        "validation_generator = validation_datagen.flow_from_directory(test_data_path,target_size=(32,32),color_mode='grayscale',batch_size=30,class_mode='categorical',shuffle=True)"
      ]
    },
    {
      "cell_type": "markdown",
      "metadata": {
        "id": "aGXjKTM9zNxl"
      },
      "source": [
        "\n",
        "\n",
        "\n",
        "---\n",
        "\n",
        "\n",
        "### Construcción y compilación del Modelo\n",
        "\n",
        "\n",
        "---"
      ]
    },
    {
      "cell_type": "code",
      "execution_count": 4,
      "metadata": {
        "colab": {
          "base_uri": "https://localhost:8080/"
        },
        "id": "9scHOMiszPdS",
        "outputId": "99ca51e2-a66a-4842-ab58-64707e52776d"
      },
      "outputs": [
        {
          "name": "stdout",
          "output_type": "stream",
          "text": [
            "Model: \"sequential\"\n",
            "_________________________________________________________________\n",
            " Layer (type)                Output Shape              Param #   \n",
            "=================================================================\n",
            " conv2d (Conv2D)             (None, 32, 32, 30)        300       \n",
            "                                                                 \n",
            " max_pooling2d (MaxPooling2D  (None, 16, 16, 30)       0         \n",
            " )                                                               \n",
            "                                                                 \n",
            " dropout (Dropout)           (None, 16, 16, 30)        0         \n",
            "                                                                 \n",
            " conv2d_1 (Conv2D)           (None, 16, 16, 30)        8130      \n",
            "                                                                 \n",
            " max_pooling2d_1 (MaxPooling  (None, 8, 8, 30)         0         \n",
            " 2D)                                                             \n",
            "                                                                 \n",
            " dropout_1 (Dropout)         (None, 8, 8, 30)          0         \n",
            "                                                                 \n",
            " conv2d_2 (Conv2D)           (None, 8, 8, 30)          3630      \n",
            "                                                                 \n",
            " max_pooling2d_2 (MaxPooling  (None, 4, 4, 30)         0         \n",
            " 2D)                                                             \n",
            "                                                                 \n",
            " dropout_2 (Dropout)         (None, 4, 4, 30)          0         \n",
            "                                                                 \n",
            " flatten (Flatten)           (None, 480)               0         \n",
            "                                                                 \n",
            " dense (Dense)               (None, 512)               246272    \n",
            "                                                                 \n",
            " dropout_3 (Dropout)         (None, 512)               0         \n",
            "                                                                 \n",
            " dense_1 (Dense)             (None, 16)                8208      \n",
            "                                                                 \n",
            "=================================================================\n",
            "Total params: 266,540\n",
            "Trainable params: 266,540\n",
            "Non-trainable params: 0\n",
            "_________________________________________________________________\n"
          ]
        }
      ],
      "source": [
        "# Se define como un modelo secuencial\n",
        "model = Sequential()\n",
        "\n",
        "# Se añaden las capas y sus hiperparámetros\n",
        "model.add(Conv2D(30, (3, 3), padding='same', input_shape=(32, 32, 1), activation='relu'))\n",
        "model.add(MaxPooling2D(pool_size=(2, 2))) #16x16\n",
        "model.add(Dropout(0.25))\n",
        "\n",
        "model.add(Conv2D(30, (3,3), padding='same', activation='relu'))\n",
        "model.add(MaxPooling2D(pool_size=(2, 2))) #8x8\n",
        "model.add(Dropout(0.25))\n",
        "\n",
        "model.add(Conv2D(30, (2, 2), padding='same', activation='relu'))\n",
        "model.add(MaxPooling2D(pool_size=(2, 2))) #4x4\n",
        "model.add(Dropout(0.25))\n",
        "\n",
        "model.add(Flatten())\n",
        "model.add(Dense(512, activation='relu'))\n",
        "model.add(Dropout(0.5))\n",
        "\n",
        "# La capa de salida debe tener el mismo número de clases\n",
        "model.add(Dense(16, activation='softmax'))\n",
        "model.summary()"
      ]
    },
    {
      "cell_type": "code",
      "execution_count": null,
      "metadata": {
        "id": "okBnKAHn0Vbg"
      },
      "outputs": [],
      "source": [
        "#Compilation\n",
        "model.compile(loss='categorical_crossentropy',optimizer='adam',metrics=['accuracy'])"
      ]
    },
    {
      "cell_type": "markdown",
      "metadata": {
        "id": "TuiaOyTY0lyN"
      },
      "source": [
        "\n",
        "---\n",
        "\n",
        "###Entrenamiento del Modelo\n",
        "\n",
        "\n",
        "---"
      ]
    },
    {
      "cell_type": "code",
      "execution_count": null,
      "metadata": {
        "colab": {
          "base_uri": "https://localhost:8080/"
        },
        "id": "y8TLD31s0mo0",
        "outputId": "11d27881-3afb-4c8a-dbfa-1996da3323f2"
      },
      "outputs": [
        {
          "name": "stderr",
          "output_type": "stream",
          "text": [
            "/usr/local/lib/python3.7/dist-packages/ipykernel_launcher.py:11: UserWarning: `Model.fit_generator` is deprecated and will be removed in a future version. Please use `Model.fit`, which supports generators.\n",
            "  # This is added back by InteractiveShellApp.init_path()\n"
          ]
        },
        {
          "name": "stdout",
          "output_type": "stream",
          "text": [
            "Epoch 1/30\n",
            "100/100 [==============================] - ETA: 0s - loss: 2.0375 - accuracy: 0.2610\n",
            "Epoch 1: val_loss improved from inf to 1.66148, saving model to /content/drive/MyDrive/3er Semestre/Introducción a la Ciencia de Datos/Reto Final/model_trained.h5\n",
            "100/100 [==============================] - 724s 7s/step - loss: 2.0375 - accuracy: 0.2610 - val_loss: 1.6615 - val_accuracy: 0.4500\n",
            "Epoch 2/30\n",
            "100/100 [==============================] - ETA: 0s - loss: 1.3609 - accuracy: 0.5183\n",
            "Epoch 2: val_loss improved from 1.66148 to 1.12935, saving model to /content/drive/MyDrive/3er Semestre/Introducción a la Ciencia de Datos/Reto Final/model_trained.h5\n",
            "100/100 [==============================] - 32s 322ms/step - loss: 1.3609 - accuracy: 0.5183 - val_loss: 1.1293 - val_accuracy: 0.6140\n",
            "Epoch 3/30\n",
            "100/100 [==============================] - ETA: 0s - loss: 1.0126 - accuracy: 0.6257\n",
            "Epoch 3: val_loss improved from 1.12935 to 0.88449, saving model to /content/drive/MyDrive/3er Semestre/Introducción a la Ciencia de Datos/Reto Final/model_trained.h5\n",
            "100/100 [==============================] - 32s 321ms/step - loss: 1.0126 - accuracy: 0.6257 - val_loss: 0.8845 - val_accuracy: 0.7180\n",
            "Epoch 4/30\n",
            "100/100 [==============================] - ETA: 0s - loss: 0.8084 - accuracy: 0.7020\n",
            "Epoch 4: val_loss improved from 0.88449 to 0.58896, saving model to /content/drive/MyDrive/3er Semestre/Introducción a la Ciencia de Datos/Reto Final/model_trained.h5\n",
            "100/100 [==============================] - 34s 343ms/step - loss: 0.8084 - accuracy: 0.7020 - val_loss: 0.5890 - val_accuracy: 0.8460\n",
            "Epoch 5/30\n",
            "100/100 [==============================] - ETA: 0s - loss: 0.6579 - accuracy: 0.7597\n",
            "Epoch 5: val_loss improved from 0.58896 to 0.46959, saving model to /content/drive/MyDrive/3er Semestre/Introducción a la Ciencia de Datos/Reto Final/model_trained.h5\n",
            "100/100 [==============================] - 33s 325ms/step - loss: 0.6579 - accuracy: 0.7597 - val_loss: 0.4696 - val_accuracy: 0.8580\n",
            "Epoch 6/30\n",
            "100/100 [==============================] - ETA: 0s - loss: 0.5762 - accuracy: 0.7917\n",
            "Epoch 6: val_loss improved from 0.46959 to 0.41785, saving model to /content/drive/MyDrive/3er Semestre/Introducción a la Ciencia de Datos/Reto Final/model_trained.h5\n",
            "100/100 [==============================] - 34s 343ms/step - loss: 0.5762 - accuracy: 0.7917 - val_loss: 0.4178 - val_accuracy: 0.8980\n",
            "Epoch 7/30\n",
            "100/100 [==============================] - ETA: 0s - loss: 0.4618 - accuracy: 0.8207\n",
            "Epoch 7: val_loss improved from 0.41785 to 0.28351, saving model to /content/drive/MyDrive/3er Semestre/Introducción a la Ciencia de Datos/Reto Final/model_trained.h5\n",
            "100/100 [==============================] - 32s 324ms/step - loss: 0.4618 - accuracy: 0.8207 - val_loss: 0.2835 - val_accuracy: 0.9300\n",
            "Epoch 8/30\n",
            "100/100 [==============================] - ETA: 0s - loss: 0.3980 - accuracy: 0.8587\n",
            "Epoch 8: val_loss improved from 0.28351 to 0.24548, saving model to /content/drive/MyDrive/3er Semestre/Introducción a la Ciencia de Datos/Reto Final/model_trained.h5\n",
            "100/100 [==============================] - 33s 327ms/step - loss: 0.3980 - accuracy: 0.8587 - val_loss: 0.2455 - val_accuracy: 0.9500\n",
            "Epoch 9/30\n",
            "100/100 [==============================] - ETA: 0s - loss: 0.3507 - accuracy: 0.8757\n",
            "Epoch 9: val_loss improved from 0.24548 to 0.22566, saving model to /content/drive/MyDrive/3er Semestre/Introducción a la Ciencia de Datos/Reto Final/model_trained.h5\n",
            "100/100 [==============================] - 34s 336ms/step - loss: 0.3507 - accuracy: 0.8757 - val_loss: 0.2257 - val_accuracy: 0.9440\n",
            "Epoch 10/30\n",
            "100/100 [==============================] - ETA: 0s - loss: 0.3497 - accuracy: 0.8780\n",
            "Epoch 10: val_loss did not improve from 0.22566\n",
            "100/100 [==============================] - 32s 319ms/step - loss: 0.3497 - accuracy: 0.8780 - val_loss: 0.2420 - val_accuracy: 0.9460\n",
            "Epoch 11/30\n",
            "100/100 [==============================] - ETA: 0s - loss: 0.2773 - accuracy: 0.8973\n",
            "Epoch 11: val_loss improved from 0.22566 to 0.13984, saving model to /content/drive/MyDrive/3er Semestre/Introducción a la Ciencia de Datos/Reto Final/model_trained.h5\n",
            "100/100 [==============================] - 34s 341ms/step - loss: 0.2773 - accuracy: 0.8973 - val_loss: 0.1398 - val_accuracy: 0.9640\n",
            "Epoch 12/30\n",
            "100/100 [==============================] - ETA: 0s - loss: 0.2569 - accuracy: 0.9130\n",
            "Epoch 12: val_loss improved from 0.13984 to 0.10881, saving model to /content/drive/MyDrive/3er Semestre/Introducción a la Ciencia de Datos/Reto Final/model_trained.h5\n",
            "100/100 [==============================] - 32s 321ms/step - loss: 0.2569 - accuracy: 0.9130 - val_loss: 0.1088 - val_accuracy: 0.9720\n",
            "Epoch 13/30\n",
            "100/100 [==============================] - ETA: 0s - loss: 0.2330 - accuracy: 0.9240\n",
            "Epoch 13: val_loss improved from 0.10881 to 0.09419, saving model to /content/drive/MyDrive/3er Semestre/Introducción a la Ciencia de Datos/Reto Final/model_trained.h5\n",
            "100/100 [==============================] - 33s 331ms/step - loss: 0.2330 - accuracy: 0.9240 - val_loss: 0.0942 - val_accuracy: 0.9900\n",
            "Epoch 14/30\n",
            "100/100 [==============================] - ETA: 0s - loss: 0.2113 - accuracy: 0.9257\n",
            "Epoch 14: val_loss did not improve from 0.09419\n",
            "100/100 [==============================] - 32s 318ms/step - loss: 0.2113 - accuracy: 0.9257 - val_loss: 0.0965 - val_accuracy: 0.9840\n",
            "Epoch 15/30\n",
            "100/100 [==============================] - ETA: 0s - loss: 0.1970 - accuracy: 0.9297\n",
            "Epoch 15: val_loss did not improve from 0.09419\n",
            "100/100 [==============================] - 32s 316ms/step - loss: 0.1970 - accuracy: 0.9297 - val_loss: 0.1002 - val_accuracy: 0.9740\n",
            "Epoch 16/30\n",
            "100/100 [==============================] - ETA: 0s - loss: 0.1751 - accuracy: 0.9403\n",
            "Epoch 16: val_loss improved from 0.09419 to 0.05959, saving model to /content/drive/MyDrive/3er Semestre/Introducción a la Ciencia de Datos/Reto Final/model_trained.h5\n",
            "100/100 [==============================] - 34s 340ms/step - loss: 0.1751 - accuracy: 0.9403 - val_loss: 0.0596 - val_accuracy: 0.9960\n",
            "Epoch 17/30\n",
            "100/100 [==============================] - ETA: 0s - loss: 0.1641 - accuracy: 0.9423\n",
            "Epoch 17: val_loss did not improve from 0.05959\n",
            "100/100 [==============================] - 32s 319ms/step - loss: 0.1641 - accuracy: 0.9423 - val_loss: 0.0653 - val_accuracy: 0.9840\n",
            "Epoch 18/30\n",
            "100/100 [==============================] - ETA: 0s - loss: 0.1674 - accuracy: 0.9390\n",
            "Epoch 18: val_loss improved from 0.05959 to 0.05643, saving model to /content/drive/MyDrive/3er Semestre/Introducción a la Ciencia de Datos/Reto Final/model_trained.h5\n",
            "100/100 [==============================] - 34s 340ms/step - loss: 0.1674 - accuracy: 0.9390 - val_loss: 0.0564 - val_accuracy: 0.9920\n",
            "Epoch 19/30\n",
            "100/100 [==============================] - ETA: 0s - loss: 0.1382 - accuracy: 0.9530\n",
            "Epoch 19: val_loss did not improve from 0.05643\n",
            "100/100 [==============================] - 32s 317ms/step - loss: 0.1382 - accuracy: 0.9530 - val_loss: 0.0596 - val_accuracy: 0.9900\n",
            "Epoch 20/30\n",
            "100/100 [==============================] - ETA: 0s - loss: 0.1674 - accuracy: 0.9407\n",
            "Epoch 20: val_loss did not improve from 0.05643\n",
            "100/100 [==============================] - 32s 319ms/step - loss: 0.1674 - accuracy: 0.9407 - val_loss: 0.1737 - val_accuracy: 0.9620\n",
            "Epoch 21/30\n",
            "100/100 [==============================] - ETA: 0s - loss: 0.1231 - accuracy: 0.9597\n",
            "Epoch 21: val_loss improved from 0.05643 to 0.04613, saving model to /content/drive/MyDrive/3er Semestre/Introducción a la Ciencia de Datos/Reto Final/model_trained.h5\n",
            "100/100 [==============================] - 34s 340ms/step - loss: 0.1231 - accuracy: 0.9597 - val_loss: 0.0461 - val_accuracy: 0.9860\n",
            "Epoch 22/30\n",
            "100/100 [==============================] - ETA: 0s - loss: 0.1070 - accuracy: 0.9640\n",
            "Epoch 22: val_loss improved from 0.04613 to 0.03446, saving model to /content/drive/MyDrive/3er Semestre/Introducción a la Ciencia de Datos/Reto Final/model_trained.h5\n",
            "100/100 [==============================] - 32s 320ms/step - loss: 0.1070 - accuracy: 0.9640 - val_loss: 0.0345 - val_accuracy: 0.9940\n",
            "Epoch 23/30\n",
            "100/100 [==============================] - ETA: 0s - loss: 0.1049 - accuracy: 0.9630\n",
            "Epoch 23: val_loss improved from 0.03446 to 0.03443, saving model to /content/drive/MyDrive/3er Semestre/Introducción a la Ciencia de Datos/Reto Final/model_trained.h5\n",
            "100/100 [==============================] - 34s 338ms/step - loss: 0.1049 - accuracy: 0.9630 - val_loss: 0.0344 - val_accuracy: 0.9940\n",
            "Epoch 24/30\n",
            "100/100 [==============================] - ETA: 0s - loss: 0.1100 - accuracy: 0.9633\n",
            "Epoch 24: val_loss did not improve from 0.03443\n",
            "100/100 [==============================] - 32s 317ms/step - loss: 0.1100 - accuracy: 0.9633 - val_loss: 0.0451 - val_accuracy: 0.9880\n",
            "Epoch 25/30\n",
            "100/100 [==============================] - ETA: 0s - loss: 0.1015 - accuracy: 0.9660\n",
            "Epoch 25: val_loss improved from 0.03443 to 0.02957, saving model to /content/drive/MyDrive/3er Semestre/Introducción a la Ciencia de Datos/Reto Final/model_trained.h5\n",
            "100/100 [==============================] - 32s 320ms/step - loss: 0.1015 - accuracy: 0.9660 - val_loss: 0.0296 - val_accuracy: 0.9940\n",
            "Epoch 26/30\n",
            "100/100 [==============================] - ETA: 0s - loss: 0.0915 - accuracy: 0.9687\n",
            "Epoch 26: val_loss improved from 0.02957 to 0.02472, saving model to /content/drive/MyDrive/3er Semestre/Introducción a la Ciencia de Datos/Reto Final/model_trained.h5\n",
            "100/100 [==============================] - 34s 339ms/step - loss: 0.0915 - accuracy: 0.9687 - val_loss: 0.0247 - val_accuracy: 0.9960\n",
            "Epoch 27/30\n",
            "100/100 [==============================] - ETA: 0s - loss: 0.1083 - accuracy: 0.9630\n",
            "Epoch 27: val_loss did not improve from 0.02472\n",
            "100/100 [==============================] - 32s 317ms/step - loss: 0.1083 - accuracy: 0.9630 - val_loss: 0.0394 - val_accuracy: 0.9880\n",
            "Epoch 28/30\n",
            "100/100 [==============================] - ETA: 0s - loss: 0.0795 - accuracy: 0.9733\n",
            "Epoch 28: val_loss did not improve from 0.02472\n",
            "100/100 [==============================] - 32s 319ms/step - loss: 0.0795 - accuracy: 0.9733 - val_loss: 0.0258 - val_accuracy: 0.9940\n",
            "Epoch 29/30\n",
            "100/100 [==============================] - ETA: 0s - loss: 0.1127 - accuracy: 0.9627\n",
            "Epoch 29: val_loss did not improve from 0.02472\n",
            "100/100 [==============================] - 32s 317ms/step - loss: 0.1127 - accuracy: 0.9627 - val_loss: 0.0291 - val_accuracy: 0.9940\n",
            "Epoch 30/30\n",
            "100/100 [==============================] - ETA: 0s - loss: 0.0864 - accuracy: 0.9730\n",
            "Epoch 30: val_loss did not improve from 0.02472\n",
            "100/100 [==============================] - 32s 316ms/step - loss: 0.0864 - accuracy: 0.9730 - val_loss: 0.0346 - val_accuracy: 0.9940\n"
          ]
        }
      ],
      "source": [
        "# Funciones callbacks\n",
        "callbacks = [EarlyStopping(monitor='val_loss', mode='min', verbose=1, patience=5), ModelCheckpoint(filepath=main_path+'/model_trained.h5', monitor='val_loss', save_best_only=True, verbose=1,mode='min')]\n",
        "\n",
        "\n",
        "step_size_train=train_generator.n/train_generator.batch_size\n",
        "step_size_validation=validation_generator.n/validation_generator.batch_size\n",
        "history = model.fit_generator(generator=train_generator,\n",
        "                   steps_per_epoch=step_size_train,\n",
        "                   validation_data = validation_generator,\n",
        "                   validation_steps = step_size_validation,\n",
        "                   epochs=30, callbacks=callbacks)"
      ]
    },
    {
      "cell_type": "code",
      "execution_count": null,
      "metadata": {
        "colab": {
          "base_uri": "https://localhost:8080/",
          "height": 295
        },
        "id": "j9zC81d47CaR",
        "outputId": "dd48bd78-3e4a-47d3-8956-78f3ffaa06c9"
      },
      "outputs": [
        {
          "data": {
            "image/png": "[encoded data removed]",
            "text/plain": [
              "<Figure size 432x288 with 1 Axes>"
            ]
          },
          "metadata": {
            "needs_background": "light"
          },
          "output_type": "display_data"
        }
      ],
      "source": [
        "# Gráfica de la métrica de precisión\n",
        "\n",
        "plt.plot(history.history['accuracy'])\n",
        "plt.plot(history.history['val_accuracy'])\n",
        "plt.title('Exactitud Modelo')\n",
        "plt.ylabel('exactitud')\n",
        "plt.xlabel('Iteración')\n",
        "plt.legend(['entrenamiento', 'validación'], loc='lower right')\n",
        "plt.show()"
      ]
    },
    {
      "cell_type": "code",
      "execution_count": null,
      "metadata": {
        "colab": {
          "base_uri": "https://localhost:8080/",
          "height": 295
        },
        "id": "0UNO4igy7SH1",
        "outputId": "992fd8ba-eec7-4e46-8776-781ea4dce6bc"
      },
      "outputs": [
        {
          "data": {
            "image/png": "[encoded data removed]",
            "text/plain": [
              "<Figure size 432x288 with 1 Axes>"
            ]
          },
          "metadata": {
            "needs_background": "light"
          },
          "output_type": "display_data"
        }
      ],
      "source": [
        "# Gráfica de la función de pérdida\n",
        "\n",
        "plt.plot(history.history['loss'])\n",
        "plt.plot(history.history['val_loss'])\n",
        "plt.title('Función de Pérdida Modelo')\n",
        "plt.ylabel('Pérdida')\n",
        "plt.xlabel('Iteración')\n",
        "plt.legend(['entrenamiento', 'validación'], loc='upper right')\n",
        "plt.show()"
      ]
    },
    {
      "cell_type": "markdown",
      "metadata": {
        "id": "xz1qRsJF7fGg"
      },
      "source": [
        "---\n",
        "###Evaluación del Modelo\n",
        "\n",
        "\n",
        "---"
      ]
    },
    {
      "cell_type": "code",
      "execution_count": null,
      "metadata": {
        "id": "ac243-GN7d0W"
      },
      "outputs": [],
      "source": [
        "#Cargar modelo\n",
        "model_trained = load_model(main_path+\"/model_trained.h5\")"
      ]
    },
    {
      "cell_type": "code",
      "execution_count": null,
      "metadata": {
        "colab": {
          "base_uri": "https://localhost:8080/"
        },
        "id": "ywrb3P4s7xfA",
        "outputId": "6772a2fe-445a-434c-d0d4-d0e663f8e22a"
      },
      "outputs": [
        {
          "name": "stderr",
          "output_type": "stream",
          "text": [
            "/usr/local/lib/python3.7/dist-packages/ipykernel_launcher.py:2: UserWarning: `Model.evaluate_generator` is deprecated and will be removed in a future version. Please use `Model.evaluate`, which supports generators.\n",
            "  \n"
          ]
        },
        {
          "name": "stdout",
          "output_type": "stream",
          "text": [
            "500/500 [==============================] - 184s 367ms/step - loss: 0.0470 - accuracy: 0.9880\n",
            "[0.04699607938528061, 0.9879999756813049]\n"
          ]
        }
      ],
      "source": [
        "step_size_test=test_generator.n/test_generator.batch_size\n",
        "result_evaluate =  model_trained.evaluate_generator(test_generator,step_size_test,verbose=1)\n",
        "print(result_evaluate)"
      ]
    },
    {
      "cell_type": "code",
      "execution_count": null,
      "metadata": {
        "colab": {
          "base_uri": "https://localhost:8080/"
        },
        "id": "7242dMWY8E89",
        "outputId": "c85df48e-8c96-4589-acb7-eafb2531a6c6"
      },
      "outputs": [
        {
          "name": "stderr",
          "output_type": "stream",
          "text": [
            "/usr/local/lib/python3.7/dist-packages/ipykernel_launcher.py:1: UserWarning: `Model.predict_generator` is deprecated and will be removed in a future version. Please use `Model.predict`, which supports generators.\n",
            "  \"\"\"Entry point for launching an IPython kernel.\n"
          ]
        }
      ],
      "source": [
        "y_pred_prob =  model_trained.predict_generator(test_generator, steps=step_size_test)\n",
        "y_pred_classes = np.argmax(y_pred_prob, axis=1)"
      ]
    },
    {
      "cell_type": "code",
      "execution_count": null,
      "metadata": {
        "colab": {
          "base_uri": "https://localhost:8080/"
        },
        "id": "dh4zGkLA8jvp",
        "outputId": "c22e9ac2-e2db-4d3c-d641-ccb00a66c25c"
      },
      "outputs": [
        {
          "name": "stdout",
          "output_type": "stream",
          "text": [
            "\n",
            "Exactitud: 0.988000\n",
            "\n",
            "Precision: 0.9884180540140584\n",
            "\n",
            "Recall: 0.988000\n",
            "\n",
            "F1 score: 0.988035\n",
            "\n",
            "Cohens kappa: 0.986667\n"
          ]
        }
      ],
      "source": [
        "accuracy = accuracy_score(test_generator.classes, y_pred_classes)\n",
        "print('\\nExactitud: %f' % accuracy)\n",
        "\n",
        "precision = precision_score(test_generator.classes, y_pred_classes, average = 'macro')\n",
        "print('\\nPrecision:', precision)\n",
        "\n",
        "recall = recall_score(test_generator.classes, y_pred_classes, average = 'macro')\n",
        "print('\\nRecall: %f' % recall)\n",
        "\n",
        "f1 = f1_score(test_generator.classes, y_pred_classes, average = 'macro')\n",
        "print('\\nF1 score: %f' % f1)\n",
        "\n",
        "kappa = cohen_kappa_score(test_generator.classes, y_pred_classes)\n",
        "print('\\nCohens kappa: %f' % kappa)"
      ]
    }
  ],
  "metadata": {
    "colab": {
      "collapsed_sections": [],
      "name": "final_model_training.ipynb",
      "provenance": []
    },
    "kernelspec": {
      "display_name": "Python 3",
      "name": "python3"
    },
    "language_info": {
      "name": "python"
    }
  },
  "nbformat": 4,
  "nbformat_minor": 0
}
